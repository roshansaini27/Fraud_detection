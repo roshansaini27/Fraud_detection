{
 "cells": [
  {
   "cell_type": "markdown",
   "id": "55e1bad5",
   "metadata": {},
   "source": [
    "# 1. import libraries\n"
   ]
  },
  {
   "cell_type": "markdown",
   "id": "44c72a88",
   "metadata": {},
   "source": [
    "Import all the required libraries"
   ]
  },
  {
   "cell_type": "code",
   "execution_count": 1,
   "id": "2c81c313",
   "metadata": {},
   "outputs": [],
   "source": [
    "import pandas as pd\n",
    "import numpy as np\n",
    "import matplotlib.pyplot as plt\n",
    "from scipy.stats import spearmanr\n",
    "import seaborn as sns\n",
    "import statsmodels.api as sm\n",
    "from statsmodels.stats.outliers_influence import variance_inflation_factor\n",
    "import sklearn\n",
    "from sklearn import metrics\n",
    "from sklearn.linear_model import LogisticRegression\n",
    "from sklearn.model_selection import train_test_split\n",
    "from sklearn.metrics import confusion_matrix,classification_report,plot_confusion_matrix\n",
    "from sklearn.metrics import plot_precision_recall_curve,plot_roc_curve\n",
    "import statsmodels.stats.api as sms\n",
    "from statsmodels.compat import lzip\n",
    "sns.set()\n",
    "import warnings\n",
    "warnings.filterwarnings(\"ignore\", category=FutureWarning)"
   ]
  },
  {
   "cell_type": "markdown",
   "id": "c5415368",
   "metadata": {},
   "source": [
    "Please note that the code was developed on below versions of libraries\n",
    "* Python version -- 3.8\n",
    "* Pandas version -- 1.4.2\n",
    "* NumPy version -- 1.21.5\n",
    "* Matplotlib -- 1.4.2\n",
    "* stats models -- 0.13.2\n",
    "* SciPy -- 1.4.2\n",
    "* sklearn -- 1.0.2\n",
    "* ##### If there is any error while running the code, please check the library version and install require version"
   ]
  },
  {
   "cell_type": "code",
   "execution_count": 2,
   "id": "cb6538a4",
   "metadata": {},
   "outputs": [
    {
     "name": "stdout",
     "output_type": "stream",
     "text": [
      "Pandas Version:  1.4.2\n",
      "Numpy Version:  1.21.5\n",
      "Statsmodels Version:  0.13.2\n",
      "Scipy Version:  1.4.2\n",
      "sklearn Version:  1.0.2\n",
      "matplotlib Version:  1.4.2\n"
     ]
    }
   ],
   "source": [
    "print(\"Pandas Version: \", pd. __version__)\n",
    "print(\"Numpy Version: \", np. __version__)\n",
    "print(\"Statsmodels Version: \", sm. __version__)\n",
    "print(\"Scipy Version: \", pd. __version__)\n",
    "print(\"sklearn Version: \", sklearn. __version__)\n",
    "print(\"matplotlib Version: \", pd. __version__)"
   ]
  },
  {
   "cell_type": "code",
   "execution_count": 3,
   "id": "792c6f57",
   "metadata": {},
   "outputs": [],
   "source": [
    "# This command show all the rows and columns in dataframe\n",
    "pd.options.display.max_columns = None\n",
    "pd.options.display.max_rows = None"
   ]
  },
  {
   "cell_type": "markdown",
   "id": "c5beb1c0",
   "metadata": {},
   "source": [
    "## Read data from csv/excel/server based on availability\n",
    "This code reads data from csv"
   ]
  },
  {
   "cell_type": "code",
   "execution_count": 4,
   "id": "1bc56bec",
   "metadata": {},
   "outputs": [
    {
     "data": {
      "text/html": [
       "<div>\n",
       "<style scoped>\n",
       "    .dataframe tbody tr th:only-of-type {\n",
       "        vertical-align: middle;\n",
       "    }\n",
       "\n",
       "    .dataframe tbody tr th {\n",
       "        vertical-align: top;\n",
       "    }\n",
       "\n",
       "    .dataframe thead th {\n",
       "        text-align: right;\n",
       "    }\n",
       "</style>\n",
       "<table border=\"1\" class=\"dataframe\">\n",
       "  <thead>\n",
       "    <tr style=\"text-align: right;\">\n",
       "      <th></th>\n",
       "      <th>step</th>\n",
       "      <th>type</th>\n",
       "      <th>amount</th>\n",
       "      <th>nameOrig</th>\n",
       "      <th>oldbalanceOrig</th>\n",
       "      <th>newbalanceOrig</th>\n",
       "      <th>nameDest</th>\n",
       "      <th>oldbalanceDest</th>\n",
       "      <th>newbalanceDest</th>\n",
       "      <th>isFraud</th>\n",
       "    </tr>\n",
       "  </thead>\n",
       "  <tbody>\n",
       "    <tr>\n",
       "      <th>0</th>\n",
       "      <td>1</td>\n",
       "      <td>PAYMENT</td>\n",
       "      <td>9839.64</td>\n",
       "      <td>C1231006815</td>\n",
       "      <td>170136.0</td>\n",
       "      <td>160296.36</td>\n",
       "      <td>M1979787155</td>\n",
       "      <td>0.0</td>\n",
       "      <td>0.0</td>\n",
       "      <td>0</td>\n",
       "    </tr>\n",
       "    <tr>\n",
       "      <th>1</th>\n",
       "      <td>1</td>\n",
       "      <td>PAYMENT</td>\n",
       "      <td>1864.28</td>\n",
       "      <td>C1666544295</td>\n",
       "      <td>21249.0</td>\n",
       "      <td>19384.72</td>\n",
       "      <td>M2044282225</td>\n",
       "      <td>0.0</td>\n",
       "      <td>0.0</td>\n",
       "      <td>0</td>\n",
       "    </tr>\n",
       "    <tr>\n",
       "      <th>2</th>\n",
       "      <td>1</td>\n",
       "      <td>TRANSFER</td>\n",
       "      <td>181.00</td>\n",
       "      <td>C1305486145</td>\n",
       "      <td>181.0</td>\n",
       "      <td>0.00</td>\n",
       "      <td>C553264065</td>\n",
       "      <td>0.0</td>\n",
       "      <td>0.0</td>\n",
       "      <td>1</td>\n",
       "    </tr>\n",
       "    <tr>\n",
       "      <th>3</th>\n",
       "      <td>1</td>\n",
       "      <td>CASH_OUT</td>\n",
       "      <td>181.00</td>\n",
       "      <td>C840083671</td>\n",
       "      <td>181.0</td>\n",
       "      <td>0.00</td>\n",
       "      <td>C38997010</td>\n",
       "      <td>21182.0</td>\n",
       "      <td>0.0</td>\n",
       "      <td>1</td>\n",
       "    </tr>\n",
       "    <tr>\n",
       "      <th>4</th>\n",
       "      <td>1</td>\n",
       "      <td>PAYMENT</td>\n",
       "      <td>11668.14</td>\n",
       "      <td>C2048537720</td>\n",
       "      <td>41554.0</td>\n",
       "      <td>29885.86</td>\n",
       "      <td>M1230701703</td>\n",
       "      <td>0.0</td>\n",
       "      <td>0.0</td>\n",
       "      <td>0</td>\n",
       "    </tr>\n",
       "  </tbody>\n",
       "</table>\n",
       "</div>"
      ],
      "text/plain": [
       "   step      type    amount     nameOrig  oldbalanceOrig  newbalanceOrig  \\\n",
       "0     1   PAYMENT   9839.64  C1231006815        170136.0       160296.36   \n",
       "1     1   PAYMENT   1864.28  C1666544295         21249.0        19384.72   \n",
       "2     1  TRANSFER    181.00  C1305486145           181.0            0.00   \n",
       "3     1  CASH_OUT    181.00   C840083671           181.0            0.00   \n",
       "4     1   PAYMENT  11668.14  C2048537720         41554.0        29885.86   \n",
       "\n",
       "      nameDest  oldbalanceDest  newbalanceDest  isFraud  \n",
       "0  M1979787155             0.0             0.0        0  \n",
       "1  M2044282225             0.0             0.0        0  \n",
       "2   C553264065             0.0             0.0        1  \n",
       "3    C38997010         21182.0             0.0        1  \n",
       "4  M1230701703             0.0             0.0        0  "
      ]
     },
     "execution_count": 4,
     "metadata": {},
     "output_type": "execute_result"
    }
   ],
   "source": [
    "data = pd.read_csv(r'D:\\fraud_data.csv')\n",
    "\n",
    "# This will show top 5 rows of dataset\n",
    "data.head()"
   ]
  },
  {
   "cell_type": "markdown",
   "id": "c5e543e0",
   "metadata": {},
   "source": [
    "### Objective:\n",
    "This model is developed to predict the real transactions fraud and the fraud estimated based on certain characteristics so that the organization can identify suspicious events and report to prevent fraud before it happens.\n",
    "#### We will evaluate model performance with the:\n",
    "*\tF beta score\n",
    "*\tROC AUC score\n",
    "*\tPR AUC score | Average precision\n",
    "\n",
    "### Data information:\n",
    "* step: represents a unit of time where 1 step equals 1 hour\n",
    "* type: type of online transaction\n",
    "* amount: the amount of the transaction\n",
    "* nameOrig: customer starting the transaction\n",
    "* oldbalanceOrg: balance before the transaction\n",
    "* newbalanceOrig: balance after the transaction\n",
    "* nameDest: recipient of the transaction\n",
    "* oldbalanceDest: initial balance of recipient before the transaction\n",
    "* newbalanceDest: the new balance of recipient after the transaction\n",
    "* isFraud: fraud transaction"
   ]
  },
  {
   "cell_type": "markdown",
   "id": "e5638a74",
   "metadata": {},
   "source": [
    "# 2. Data Review and Checks"
   ]
  },
  {
   "cell_type": "code",
   "execution_count": 5,
   "id": "bf7b6eb4",
   "metadata": {},
   "outputs": [
    {
     "data": {
      "text/plain": [
       "(1009827, 10)"
      ]
     },
     "execution_count": 5,
     "metadata": {},
     "output_type": "execute_result"
    }
   ],
   "source": [
    "data.shape"
   ]
  },
  {
   "cell_type": "markdown",
   "id": "1872f6e0",
   "metadata": {},
   "source": [
    "* This dataset has 10 columns and 6351193 rows"
   ]
  },
  {
   "cell_type": "code",
   "execution_count": 6,
   "id": "dd2a863a",
   "metadata": {},
   "outputs": [
    {
     "name": "stdout",
     "output_type": "stream",
     "text": [
      "Numeric_Columns: ['step', 'amount', 'oldbalanceOrig', 'newbalanceOrig', 'oldbalanceDest', 'newbalanceDest', 'isFraud']\n",
      "Categorical_Columns: ['type', 'nameOrig', 'nameDest']\n"
     ]
    }
   ],
   "source": [
    "num_col= list(data.select_dtypes(np.number))\n",
    "print(\"Numeric_Columns:\",  num_col)\n",
    "cat_col= list(data.select_dtypes(include= 'object'))\n",
    "print(\"Categorical_Columns:\", cat_col)"
   ]
  },
  {
   "cell_type": "markdown",
   "id": "0a4d55d4",
   "metadata": {},
   "source": [
    "* There are 7 numeric columns and 3 are categorical columns in datset."
   ]
  },
  {
   "cell_type": "code",
   "execution_count": 7,
   "id": "ae5709c7",
   "metadata": {},
   "outputs": [
    {
     "name": "stdout",
     "output_type": "stream",
     "text": [
      "<class 'pandas.core.frame.DataFrame'>\n",
      "RangeIndex: 1009827 entries, 0 to 1009826\n",
      "Data columns (total 10 columns):\n",
      " #   Column          Non-Null Count    Dtype  \n",
      "---  ------          --------------    -----  \n",
      " 0   step            1009827 non-null  int64  \n",
      " 1   type            1009827 non-null  object \n",
      " 2   amount          1009827 non-null  float64\n",
      " 3   nameOrig        1009827 non-null  object \n",
      " 4   oldbalanceOrig  1009827 non-null  float64\n",
      " 5   newbalanceOrig  1009827 non-null  float64\n",
      " 6   nameDest        1009827 non-null  object \n",
      " 7   oldbalanceDest  1009827 non-null  float64\n",
      " 8   newbalanceDest  1009827 non-null  float64\n",
      " 9   isFraud         1009827 non-null  int64  \n",
      "dtypes: float64(5), int64(2), object(3)\n",
      "memory usage: 77.0+ MB\n"
     ]
    }
   ],
   "source": [
    "# It will provide count of non-Null and data type(int/float/object) for each variable\n",
    "data.info()"
   ]
  },
  {
   "cell_type": "markdown",
   "id": "6977a893",
   "metadata": {},
   "source": [
    "## 2.1 Descriptive statistics\n"
   ]
  },
  {
   "cell_type": "code",
   "execution_count": 8,
   "id": "b563142f",
   "metadata": {},
   "outputs": [
    {
     "data": {
      "text/html": [
       "<div>\n",
       "<style scoped>\n",
       "    .dataframe tbody tr th:only-of-type {\n",
       "        vertical-align: middle;\n",
       "    }\n",
       "\n",
       "    .dataframe tbody tr th {\n",
       "        vertical-align: top;\n",
       "    }\n",
       "\n",
       "    .dataframe thead th {\n",
       "        text-align: right;\n",
       "    }\n",
       "</style>\n",
       "<table border=\"1\" class=\"dataframe\">\n",
       "  <thead>\n",
       "    <tr style=\"text-align: right;\">\n",
       "      <th></th>\n",
       "      <th>count</th>\n",
       "      <th>mean</th>\n",
       "      <th>std</th>\n",
       "      <th>min</th>\n",
       "      <th>25%</th>\n",
       "      <th>50%</th>\n",
       "      <th>75%</th>\n",
       "      <th>max</th>\n",
       "    </tr>\n",
       "  </thead>\n",
       "  <tbody>\n",
       "    <tr>\n",
       "      <th>step</th>\n",
       "      <td>1009827.0</td>\n",
       "      <td>2.535658e+01</td>\n",
       "      <td>1.275139e+01</td>\n",
       "      <td>1.0</td>\n",
       "      <td>14.000</td>\n",
       "      <td>20.00</td>\n",
       "      <td>38.000</td>\n",
       "      <td>46.00</td>\n",
       "    </tr>\n",
       "    <tr>\n",
       "      <th>amount</th>\n",
       "      <td>1009827.0</td>\n",
       "      <td>1.597687e+05</td>\n",
       "      <td>2.591871e+05</td>\n",
       "      <td>0.1</td>\n",
       "      <td>12645.705</td>\n",
       "      <td>78956.34</td>\n",
       "      <td>215997.045</td>\n",
       "      <td>10000000.00</td>\n",
       "    </tr>\n",
       "    <tr>\n",
       "      <th>oldbalanceOrig</th>\n",
       "      <td>1009827.0</td>\n",
       "      <td>8.778865e+05</td>\n",
       "      <td>2.986763e+06</td>\n",
       "      <td>0.0</td>\n",
       "      <td>0.000</td>\n",
       "      <td>15948.00</td>\n",
       "      <td>138730.875</td>\n",
       "      <td>38939424.03</td>\n",
       "    </tr>\n",
       "    <tr>\n",
       "      <th>newbalanceOrig</th>\n",
       "      <td>1009827.0</td>\n",
       "      <td>8.984926e+05</td>\n",
       "      <td>3.023617e+06</td>\n",
       "      <td>0.0</td>\n",
       "      <td>0.000</td>\n",
       "      <td>0.00</td>\n",
       "      <td>178565.245</td>\n",
       "      <td>38946233.02</td>\n",
       "    </tr>\n",
       "    <tr>\n",
       "      <th>oldbalanceDest</th>\n",
       "      <td>1009827.0</td>\n",
       "      <td>9.845629e+05</td>\n",
       "      <td>2.303794e+06</td>\n",
       "      <td>0.0</td>\n",
       "      <td>0.000</td>\n",
       "      <td>133684.41</td>\n",
       "      <td>925074.600</td>\n",
       "      <td>42054659.73</td>\n",
       "    </tr>\n",
       "    <tr>\n",
       "      <th>newbalanceDest</th>\n",
       "      <td>1009827.0</td>\n",
       "      <td>1.123355e+06</td>\n",
       "      <td>2.424419e+06</td>\n",
       "      <td>0.0</td>\n",
       "      <td>0.000</td>\n",
       "      <td>228355.50</td>\n",
       "      <td>1164655.760</td>\n",
       "      <td>42169156.09</td>\n",
       "    </tr>\n",
       "    <tr>\n",
       "      <th>isFraud</th>\n",
       "      <td>1009827.0</td>\n",
       "      <td>5.377159e-04</td>\n",
       "      <td>2.318248e-02</td>\n",
       "      <td>0.0</td>\n",
       "      <td>0.000</td>\n",
       "      <td>0.00</td>\n",
       "      <td>0.000</td>\n",
       "      <td>1.00</td>\n",
       "    </tr>\n",
       "  </tbody>\n",
       "</table>\n",
       "</div>"
      ],
      "text/plain": [
       "                    count          mean           std  min        25%  \\\n",
       "step            1009827.0  2.535658e+01  1.275139e+01  1.0     14.000   \n",
       "amount          1009827.0  1.597687e+05  2.591871e+05  0.1  12645.705   \n",
       "oldbalanceOrig  1009827.0  8.778865e+05  2.986763e+06  0.0      0.000   \n",
       "newbalanceOrig  1009827.0  8.984926e+05  3.023617e+06  0.0      0.000   \n",
       "oldbalanceDest  1009827.0  9.845629e+05  2.303794e+06  0.0      0.000   \n",
       "newbalanceDest  1009827.0  1.123355e+06  2.424419e+06  0.0      0.000   \n",
       "isFraud         1009827.0  5.377159e-04  2.318248e-02  0.0      0.000   \n",
       "\n",
       "                      50%          75%          max  \n",
       "step                20.00       38.000        46.00  \n",
       "amount           78956.34   215997.045  10000000.00  \n",
       "oldbalanceOrig   15948.00   138730.875  38939424.03  \n",
       "newbalanceOrig       0.00   178565.245  38946233.02  \n",
       "oldbalanceDest  133684.41   925074.600  42054659.73  \n",
       "newbalanceDest  228355.50  1164655.760  42169156.09  \n",
       "isFraud              0.00        0.000         1.00  "
      ]
     },
     "execution_count": 8,
     "metadata": {},
     "output_type": "execute_result"
    }
   ],
   "source": [
    "# To describe numerical variables\n",
    "data.describe().T"
   ]
  },
  {
   "cell_type": "markdown",
   "id": "0e4e439d",
   "metadata": {},
   "source": [
    "## 2.2 Duplicates data"
   ]
  },
  {
   "cell_type": "code",
   "execution_count": 9,
   "id": "61c60f56",
   "metadata": {},
   "outputs": [
    {
     "data": {
      "text/plain": [
       "0"
      ]
     },
     "execution_count": 9,
     "metadata": {},
     "output_type": "execute_result"
    }
   ],
   "source": [
    "data.duplicated().sum()"
   ]
  },
  {
   "cell_type": "markdown",
   "id": "cba807d1",
   "metadata": {},
   "source": [
    "* In this dataset no duplicate values present"
   ]
  },
  {
   "cell_type": "markdown",
   "id": "e07579e0",
   "metadata": {},
   "source": [
    "### Train test split\n",
    "* The data is divided into two parts train and test\n",
    "* We will develop our model on train data and test the model using test data\n",
    "* Developed model should be able to predict expenses in test data with same accuracy\n",
    "* #### Please note that train test split should be done before any outlier treatment and missing value imputation. The same process should be followed for test data."
   ]
  },
  {
   "cell_type": "code",
   "execution_count": 10,
   "id": "e36f02c2",
   "metadata": {},
   "outputs": [],
   "source": [
    "x= data.drop('isFraud', axis=1) # Drop Target variable (isFraud)\n",
    "y= data['isFraud']\n",
    "\n",
    "# 70% of data is randomly selected for train and 30% kept for test\n",
    "x_train, x_test, y_train, y_test = train_test_split(x, y, test_size=0.3, random_state=101)"
   ]
  },
  {
   "cell_type": "code",
   "execution_count": 11,
   "id": "99c98855",
   "metadata": {},
   "outputs": [],
   "source": [
    "data0= pd.concat([x_train.reset_index(drop=True), y_train.reset_index(drop=True)], axis=1)"
   ]
  },
  {
   "cell_type": "markdown",
   "id": "d15a2978",
   "metadata": {},
   "source": [
    "## 2.3 Exploratory data analysis"
   ]
  },
  {
   "cell_type": "code",
   "execution_count": 12,
   "id": "42dca908",
   "metadata": {},
   "outputs": [
    {
     "name": "stdout",
     "output_type": "stream",
     "text": [
      "CASH_OUT    256067\n",
      "PAYMENT     233880\n",
      "CASH_IN     154119\n",
      "TRANSFER     58207\n",
      "DEBIT         4605\n",
      "Name: type, dtype: int64\n"
     ]
    },
    {
     "data": {
      "image/png": "[encoded data removed]",
      "text/plain": [
       "<Figure size 576x576 with 1 Axes>"
      ]
     },
     "metadata": {},
     "output_type": "display_data"
    }
   ],
   "source": [
    "fig= plt.figure(figsize=(8,8))\n",
    "print(data0['type'].value_counts())\n",
    "plt.pie(data0['type'].value_counts(), labels=data0['type'].unique(), autopct='%1.2f%%')\n",
    "plt.show()"
   ]
  },
  {
   "cell_type": "markdown",
   "id": "5cef8359",
   "metadata": {},
   "source": [
    "* There the most type of transaction are cash_out, cash_in and payment."
   ]
  },
  {
   "cell_type": "code",
   "execution_count": 13,
   "id": "feba7ed6",
   "metadata": {},
   "outputs": [
    {
     "name": "stdout",
     "output_type": "stream",
     "text": [
      "0    706507\n",
      "1       371\n",
      "Name: isFraud, dtype: int64\n",
      "Yes precentage for Fraud: 0.001\n"
     ]
    },
    {
     "data": {
      "text/plain": [
       "<AxesSubplot:xlabel='isFraud', ylabel='count'>"
      ]
     },
     "execution_count": 13,
     "metadata": {},
     "output_type": "execute_result"
    },
    {
     "data": {
      "image/png": "[encoded data removed]",
      "text/plain": [
       "<Figure size 432x288 with 1 Axes>"
      ]
     },
     "metadata": {},
     "output_type": "display_data"
    }
   ],
   "source": [
    "print(data0['isFraud'].value_counts())\n",
    "print(\"Yes precentage for Fraud:\", np.round(data0[data0['isFraud']==1].shape[0]/data0.shape[0],3))\n",
    "sns.countplot(data0['isFraud'], label='IsFraud')"
   ]
  },
  {
   "cell_type": "markdown",
   "id": "c03033ce",
   "metadata": {},
   "source": [
    "* In this dataset fraud cases are less that is good for organization."
   ]
  },
  {
   "cell_type": "code",
   "execution_count": 14,
   "id": "de960959",
   "metadata": {},
   "outputs": [
    {
     "data": {
      "text/plain": [
       "Text(0, 0.5, 'Fraud count by step')"
      ]
     },
     "execution_count": 14,
     "metadata": {},
     "output_type": "execute_result"
    },
    {
     "data": {
      "image/png": "[encoded data removed]",
      "text/plain": [
       "<Figure size 720x360 with 1 Axes>"
      ]
     },
     "metadata": {},
     "output_type": "display_data"
    }
   ],
   "source": [
    "# Top 10 step number that fraud occured\n",
    "t=pd.DataFrame(data0.groupby(by=data0['step'])['isFraud'].sum())\n",
    "t2=t.sort_values(by='isFraud', ascending=False).head(10)\n",
    "t2 = t2.rename_axis('step').reset_index()\n",
    "plt.figure(figsize=(10,5))\n",
    "sns.barplot(data=t2,x='step', y='isFraud')\n",
    "plt.ylabel('Fraud count by step')"
   ]
  },
  {
   "cell_type": "code",
   "execution_count": 15,
   "id": "c27667ae",
   "metadata": {},
   "outputs": [
    {
     "data": {
      "text/plain": [
       "<AxesSubplot:xlabel='type', ylabel='count'>"
      ]
     },
     "execution_count": 15,
     "metadata": {},
     "output_type": "execute_result"
    },
    {
     "data": {
      "image/png": "[encoded data removed]",
      "text/plain": [
       "<Figure size 576x432 with 1 Axes>"
      ]
     },
     "metadata": {},
     "output_type": "display_data"
    }
   ],
   "source": [
    "fig= plt.figure(figsize=(8,6))\n",
    "sns.countplot(data=data0,x='type',hue='isFraud')"
   ]
  },
  {
   "cell_type": "markdown",
   "id": "695ad011",
   "metadata": {},
   "source": [
    "* There the most type of transaction caused fraud  are cash_out, payment and cash_in."
   ]
  },
  {
   "cell_type": "code",
   "execution_count": 16,
   "id": "f463193d",
   "metadata": {},
   "outputs": [
    {
     "data": {
      "image/png": "[encoded data removed]",
      "text/plain": [
       "<Figure size 1440x1152 with 9 Axes>"
      ]
     },
     "metadata": {
      "needs_background": "light"
     },
     "output_type": "display_data"
    }
   ],
   "source": [
    "# numeric columns disribution \n",
    "%matplotlib inline\n",
    "data0.hist(bins = 30, figsize=(20,16), color = 'blue') \n",
    "plt.show()"
   ]
  },
  {
   "cell_type": "markdown",
   "id": "cacdf4ff",
   "metadata": {},
   "source": [
    "## 2.4 Null Check"
   ]
  },
  {
   "cell_type": "code",
   "execution_count": 17,
   "id": "bef95521",
   "metadata": {},
   "outputs": [
    {
     "data": {
      "text/plain": [
       "step              0\n",
       "type              0\n",
       "amount            0\n",
       "nameOrig          0\n",
       "oldbalanceOrig    0\n",
       "newbalanceOrig    0\n",
       "nameDest          0\n",
       "oldbalanceDest    0\n",
       "newbalanceDest    0\n",
       "isFraud           0\n",
       "dtype: int64"
      ]
     },
     "execution_count": 17,
     "metadata": {},
     "output_type": "execute_result"
    }
   ],
   "source": [
    "# To count missing values for each variable\n",
    "data0.isnull().sum()"
   ]
  },
  {
   "cell_type": "markdown",
   "id": "db07b9ed",
   "metadata": {},
   "source": [
    "* There is no null count is this dataset"
   ]
  },
  {
   "cell_type": "markdown",
   "id": "98fe7912",
   "metadata": {},
   "source": [
    "## 2.5 Outlier Handling"
   ]
  },
  {
   "cell_type": "markdown",
   "id": "805138c2",
   "metadata": {},
   "source": [
    "* Only in continuous variables\n",
    "####  Check the skewness of the data\n",
    "\n",
    "\n",
    "* If the skewness is between -0.5 & 0.5, the data are nearly symmetrical.\n",
    "\n",
    "\n",
    "* If the skewness is between -1 & -0.5 (negative skewed) or between 0.5 & 1(positive skewed), the data are slightly skewed.\n",
    "\n",
    "\n",
    "* If the skewness is lower than -1 (negative skewed) or greater than 1 (positive skewed), the data are extremely skewed."
   ]
  },
  {
   "cell_type": "code",
   "execution_count": 18,
   "id": "065e0820",
   "metadata": {},
   "outputs": [
    {
     "data": {
      "text/html": [
       "<div>\n",
       "<style scoped>\n",
       "    .dataframe tbody tr th:only-of-type {\n",
       "        vertical-align: middle;\n",
       "    }\n",
       "\n",
       "    .dataframe tbody tr th {\n",
       "        vertical-align: top;\n",
       "    }\n",
       "\n",
       "    .dataframe thead th {\n",
       "        text-align: right;\n",
       "    }\n",
       "</style>\n",
       "<table border=\"1\" class=\"dataframe\">\n",
       "  <thead>\n",
       "    <tr style=\"text-align: right;\">\n",
       "      <th></th>\n",
       "      <th>skew</th>\n",
       "    </tr>\n",
       "  </thead>\n",
       "  <tbody>\n",
       "    <tr>\n",
       "      <th>step</th>\n",
       "      <td>0.196063</td>\n",
       "    </tr>\n",
       "    <tr>\n",
       "      <th>newbalanceDest</th>\n",
       "      <td>4.996493</td>\n",
       "    </tr>\n",
       "    <tr>\n",
       "      <th>newbalanceOrig</th>\n",
       "      <td>5.050147</td>\n",
       "    </tr>\n",
       "    <tr>\n",
       "      <th>oldbalanceOrig</th>\n",
       "      <td>5.114813</td>\n",
       "    </tr>\n",
       "    <tr>\n",
       "      <th>oldbalanceDest</th>\n",
       "      <td>5.360872</td>\n",
       "    </tr>\n",
       "    <tr>\n",
       "      <th>amount</th>\n",
       "      <td>5.415347</td>\n",
       "    </tr>\n",
       "    <tr>\n",
       "      <th>isFraud</th>\n",
       "      <td>43.615824</td>\n",
       "    </tr>\n",
       "  </tbody>\n",
       "</table>\n",
       "</div>"
      ],
      "text/plain": [
       "                     skew\n",
       "step             0.196063\n",
       "newbalanceDest   4.996493\n",
       "newbalanceOrig   5.050147\n",
       "oldbalanceOrig   5.114813\n",
       "oldbalanceDest   5.360872\n",
       "amount           5.415347\n",
       "isFraud         43.615824"
      ]
     },
     "execution_count": 18,
     "metadata": {},
     "output_type": "execute_result"
    }
   ],
   "source": [
    "skew= data0.skew().sort_values()\n",
    "skew_df= pd.DataFrame({'skew':skew})\n",
    "skew_df"
   ]
  },
  {
   "cell_type": "code",
   "execution_count": 19,
   "id": "6ce2bcdf",
   "metadata": {},
   "outputs": [
    {
     "data": {
      "text/plain": [
       "Index(['newbalanceDest', 'newbalanceOrig', 'oldbalanceOrig', 'oldbalanceDest',\n",
       "       'amount', 'isFraud'],\n",
       "      dtype='object')"
      ]
     },
     "execution_count": 19,
     "metadata": {},
     "output_type": "execute_result"
    }
   ],
   "source": [
    "skew_df[(skew_df['skew']>=1) |(skew_df['skew']<=-1) ].index"
   ]
  },
  {
   "cell_type": "markdown",
   "id": "013a8d92",
   "metadata": {},
   "source": [
    "* #### Our Data is Highly skewed , we should correct it before modeling"
   ]
  },
  {
   "cell_type": "code",
   "execution_count": 20,
   "id": "664a009f",
   "metadata": {
    "scrolled": true
   },
   "outputs": [
    {
     "data": {
      "text/plain": [
       "<AxesSubplot:xlabel='amount', ylabel='Density'>"
      ]
     },
     "execution_count": 20,
     "metadata": {},
     "output_type": "execute_result"
    },
    {
     "data": {
      "image/png": "[encoded data removed]",
      "text/plain": [
       "<Figure size 432x288 with 1 Axes>"
      ]
     },
     "metadata": {
      "needs_background": "light"
     },
     "output_type": "display_data"
    }
   ],
   "source": [
    "sns.distplot(data0['amount'])"
   ]
  },
  {
   "cell_type": "code",
   "execution_count": 21,
   "id": "42f60c95",
   "metadata": {},
   "outputs": [
    {
     "data": {
      "image/png": "[encoded data removed]",
      "text/plain": [
       "<Figure size 432x288 with 1 Axes>"
      ]
     },
     "metadata": {
      "needs_background": "light"
     },
     "output_type": "display_data"
    }
   ],
   "source": [
    "## Box plot --> it is ploted using quntile and inter quntile range(IQR)\n",
    "## Data outside the vertical lines are considered as outliers\n",
    "sns.boxplot(x=data0['amount'])\n",
    "plt.title('amount Outlier Check')\n",
    "plt.show()"
   ]
  },
  {
   "cell_type": "code",
   "execution_count": 22,
   "id": "be447944",
   "metadata": {},
   "outputs": [
    {
     "name": "stdout",
     "output_type": "stream",
     "text": [
      "Upper bound: 521013.25125 Lower bound: -292354.71875\n"
     ]
    }
   ],
   "source": [
    "Qntl1 = data0['amount'].quantile(0.25) \n",
    "Qntl3 = data0['amount'].quantile(0.75)  \n",
    "IQR = Qntl3 -Qntl1\n",
    "lw_amount= Qntl1 - 1.5* IQR\n",
    "up_amount = Qntl3 + 1.5* IQR\n",
    "print(\"Upper bound:\",up_amount, \"Lower bound:\", lw_amount)\n",
    "\n",
    "data0['amount'] = np.where(data0['amount']> up_amount, up_amount, data0['amount'])\n",
    "\n",
    "data0['amount'] = np.where(data0['amount']< lw_amount, lw_amount, data0['amount'])"
   ]
  },
  {
   "cell_type": "code",
   "execution_count": 23,
   "id": "04002813",
   "metadata": {},
   "outputs": [
    {
     "data": {
      "image/png": "[encoded data removed]",
      "text/plain": [
       "<Figure size 432x288 with 1 Axes>"
      ]
     },
     "metadata": {
      "needs_background": "light"
     },
     "output_type": "display_data"
    }
   ],
   "source": [
    "sns.boxplot(x=data0['amount'])\n",
    "plt.title('amount After Outlier Check')\n",
    "plt.show()"
   ]
  },
  {
   "cell_type": "code",
   "execution_count": 24,
   "id": "a5be652e",
   "metadata": {},
   "outputs": [
    {
     "name": "stdout",
     "output_type": "stream",
     "text": [
      "Skewness after outlier treatment: 1.1727930984546655\n"
     ]
    }
   ],
   "source": [
    "print(\"Skewness after outlier treatment:\", data0['amount'].skew())"
   ]
  },
  {
   "cell_type": "markdown",
   "id": "1180f414",
   "metadata": {},
   "source": [
    "* #### We go from highly skewed to moderated data"
   ]
  },
  {
   "cell_type": "code",
   "execution_count": 25,
   "id": "993d1b0d",
   "metadata": {},
   "outputs": [
    {
     "data": {
      "text/plain": [
       "<AxesSubplot:xlabel='oldbalanceDest', ylabel='Density'>"
      ]
     },
     "execution_count": 25,
     "metadata": {},
     "output_type": "execute_result"
    },
    {
     "data": {
      "image/png": "[encoded data removed]",
      "text/plain": [
       "<Figure size 432x288 with 1 Axes>"
      ]
     },
     "metadata": {
      "needs_background": "light"
     },
     "output_type": "display_data"
    }
   ],
   "source": [
    "sns.distplot(data0['oldbalanceDest'])"
   ]
  },
  {
   "cell_type": "code",
   "execution_count": 26,
   "id": "26ddb65e",
   "metadata": {},
   "outputs": [
    {
     "data": {
      "image/png": "[encoded data removed]",
      "text/plain": [
       "<Figure size 432x288 with 1 Axes>"
      ]
     },
     "metadata": {
      "needs_background": "light"
     },
     "output_type": "display_data"
    }
   ],
   "source": [
    "sns.boxplot(x=data0['oldbalanceDest'])\n",
    "plt.title('isFraud Outlier Check')\n",
    "plt.show()"
   ]
  },
  {
   "cell_type": "code",
   "execution_count": 27,
   "id": "d55e57b2",
   "metadata": {},
   "outputs": [
    {
     "name": "stdout",
     "output_type": "stream",
     "text": [
      "Upper bound: 2310327.93125 Lower bound: -1386196.75875\n"
     ]
    }
   ],
   "source": [
    "Qntl1 = data0['oldbalanceDest'].quantile(0.25) \n",
    "Qntl3 = data0['oldbalanceDest'].quantile(0.75)  \n",
    "IQR = Qntl3 -Qntl1\n",
    "lw_limit= Qntl1 - 1.5* IQR\n",
    "up_limit = Qntl3 + 1.5* IQR\n",
    "print(\"Upper bound:\",up_limit, \"Lower bound:\", lw_limit)\n",
    "\n",
    "data0['oldbalanceDest'] = np.where(data0['oldbalanceDest']> up_limit, up_limit, data0['oldbalanceDest'])\n",
    "\n",
    "data0['oldbalanceDest'] = np.where(data0['oldbalanceDest']< lw_limit, lw_limit, data0['oldbalanceDest'])"
   ]
  },
  {
   "cell_type": "code",
   "execution_count": 28,
   "id": "e0043b7e",
   "metadata": {},
   "outputs": [
    {
     "data": {
      "image/png": "[encoded data removed]",
      "text/plain": [
       "<Figure size 432x288 with 1 Axes>"
      ]
     },
     "metadata": {
      "needs_background": "light"
     },
     "output_type": "display_data"
    }
   ],
   "source": [
    "sns.boxplot(x=data0['oldbalanceDest'])\n",
    "plt.title('oldbalanceDest After Outlier Check')\n",
    "plt.show()"
   ]
  },
  {
   "cell_type": "code",
   "execution_count": 29,
   "id": "c0f53d21",
   "metadata": {},
   "outputs": [
    {
     "name": "stdout",
     "output_type": "stream",
     "text": [
      "Skewness after outlier treatment: 1.2233077647949162\n"
     ]
    }
   ],
   "source": [
    "print(\"Skewness after outlier treatment:\",data0['oldbalanceDest'].skew())"
   ]
  },
  {
   "cell_type": "markdown",
   "id": "5b90bed3",
   "metadata": {},
   "source": [
    "* #### We go from highly skewed to moderated data"
   ]
  },
  {
   "cell_type": "code",
   "execution_count": 30,
   "id": "e39e79ce",
   "metadata": {},
   "outputs": [
    {
     "data": {
      "text/plain": [
       "<AxesSubplot:xlabel='newbalanceDest', ylabel='Density'>"
      ]
     },
     "execution_count": 30,
     "metadata": {},
     "output_type": "execute_result"
    },
    {
     "data": {
      "image/png": "[encoded data removed]",
      "text/plain": [
       "<Figure size 432x288 with 1 Axes>"
      ]
     },
     "metadata": {
      "needs_background": "light"
     },
     "output_type": "display_data"
    }
   ],
   "source": [
    "sns.distplot(data0['newbalanceDest'])"
   ]
  },
  {
   "cell_type": "code",
   "execution_count": 31,
   "id": "008ff6ca",
   "metadata": {},
   "outputs": [
    {
     "data": {
      "image/png": "[encoded data removed]",
      "text/plain": [
       "<Figure size 432x288 with 1 Axes>"
      ]
     },
     "metadata": {
      "needs_background": "light"
     },
     "output_type": "display_data"
    }
   ],
   "source": [
    "sns.boxplot(x=data0['newbalanceDest'])\n",
    "plt.title('isFraud Outlier Check')\n",
    "plt.show()"
   ]
  },
  {
   "cell_type": "code",
   "execution_count": 32,
   "id": "9cc80e86",
   "metadata": {},
   "outputs": [
    {
     "name": "stdout",
     "output_type": "stream",
     "text": [
      "Upper bound: 2909679.3062499994 Lower bound: -1745807.5837499998\n"
     ]
    }
   ],
   "source": [
    "Qntl1 = data0['newbalanceDest'].quantile(0.25) \n",
    "Qntl3 = data0['newbalanceDest'].quantile(0.75)  \n",
    "IQR = Qntl3 -Qntl1\n",
    "lw_newbalanceDest= Qntl1 - 1.5* IQR\n",
    "up_newbalanceDest = Qntl3 + 1.5* IQR\n",
    "print(\"Upper bound:\",up_newbalanceDest, \"Lower bound:\", lw_newbalanceDest)\n",
    "\n",
    "data0['newbalanceDest'] = np.where(data0['newbalanceDest']> up_newbalanceDest, up_newbalanceDest, data0['newbalanceDest'])\n",
    "\n",
    "data0['newbalanceDest'] = np.where(data0['newbalanceDest']< lw_newbalanceDest, lw_newbalanceDest, data0['newbalanceDest'])"
   ]
  },
  {
   "cell_type": "code",
   "execution_count": 33,
   "id": "9a74e72a",
   "metadata": {},
   "outputs": [
    {
     "data": {
      "image/png": "[encoded data removed]",
      "text/plain": [
       "<Figure size 432x288 with 1 Axes>"
      ]
     },
     "metadata": {
      "needs_background": "light"
     },
     "output_type": "display_data"
    }
   ],
   "source": [
    "sns.boxplot(x=data0['newbalanceDest'])\n",
    "plt.title('newbalanceDest After Outlier Check')\n",
    "plt.show()"
   ]
  },
  {
   "cell_type": "code",
   "execution_count": 34,
   "id": "333f1653",
   "metadata": {},
   "outputs": [
    {
     "name": "stdout",
     "output_type": "stream",
     "text": [
      "Skewness after outlier treatment: 1.2291348165530023\n"
     ]
    }
   ],
   "source": [
    "print(\"Skewness after outlier treatment:\",data0['newbalanceDest'].skew())"
   ]
  },
  {
   "cell_type": "markdown",
   "id": "cf2fbd2f",
   "metadata": {},
   "source": [
    "* #### We go from highly skewed to moderated data"
   ]
  },
  {
   "cell_type": "code",
   "execution_count": 35,
   "id": "90370d48",
   "metadata": {},
   "outputs": [
    {
     "data": {
      "text/plain": [
       "<AxesSubplot:xlabel='oldbalanceOrig', ylabel='Density'>"
      ]
     },
     "execution_count": 35,
     "metadata": {},
     "output_type": "execute_result"
    },
    {
     "data": {
      "image/png": "[encoded data removed]",
      "text/plain": [
       "<Figure size 432x288 with 1 Axes>"
      ]
     },
     "metadata": {
      "needs_background": "light"
     },
     "output_type": "display_data"
    }
   ],
   "source": [
    "sns.distplot(data0['oldbalanceOrig'])"
   ]
  },
  {
   "cell_type": "code",
   "execution_count": 36,
   "id": "64942a38",
   "metadata": {},
   "outputs": [
    {
     "data": {
      "image/png": "[encoded data removed]",
      "text/plain": [
       "<Figure size 432x288 with 1 Axes>"
      ]
     },
     "metadata": {
      "needs_background": "light"
     },
     "output_type": "display_data"
    }
   ],
   "source": [
    "sns.boxplot(x=data0['oldbalanceOrig'])\n",
    "plt.title('oldbalanceOrig Outlier Check')\n",
    "plt.show()"
   ]
  },
  {
   "cell_type": "code",
   "execution_count": 37,
   "id": "29b2d5ef",
   "metadata": {},
   "outputs": [
    {
     "name": "stdout",
     "output_type": "stream",
     "text": [
      "Upper bound: 345608.775 Lower bound: -207365.265\n"
     ]
    }
   ],
   "source": [
    "Qntl1 = data0['oldbalanceOrig'].quantile(0.25) \n",
    "Qntl3 = data0['oldbalanceOrig'].quantile(0.75)  \n",
    "IQR = Qntl3 -Qntl1\n",
    "lw_oldbalanceOrig= Qntl1 - 1.5* IQR\n",
    "up_oldbalanceOrig = Qntl3 + 1.5* IQR\n",
    "print(\"Upper bound:\",up_oldbalanceOrig, \"Lower bound:\", lw_oldbalanceOrig)\n",
    "\n",
    "data0['oldbalanceOrig'] = np.where(data0['oldbalanceOrig']> up_oldbalanceOrig, up_oldbalanceOrig, data0['oldbalanceOrig'])\n",
    "\n",
    "data0['oldbalanceOrig'] = np.where(data0['oldbalanceOrig']< lw_oldbalanceOrig, lw_oldbalanceOrig, data0['oldbalanceOrig'])"
   ]
  },
  {
   "cell_type": "code",
   "execution_count": 38,
   "id": "5ceb6b99",
   "metadata": {},
   "outputs": [
    {
     "data": {
      "image/png": "[encoded data removed]",
      "text/plain": [
       "<Figure size 432x288 with 1 Axes>"
      ]
     },
     "metadata": {
      "needs_background": "light"
     },
     "output_type": "display_data"
    }
   ],
   "source": [
    "sns.boxplot(x=data0['oldbalanceOrig'])\n",
    "plt.title('oldbalanceOrig After Outlier Check')\n",
    "plt.show()"
   ]
  },
  {
   "cell_type": "code",
   "execution_count": 39,
   "id": "0aad876c",
   "metadata": {},
   "outputs": [
    {
     "name": "stdout",
     "output_type": "stream",
     "text": [
      "Skewness after outlier treatment: 1.1897488528312505\n"
     ]
    }
   ],
   "source": [
    "print(\"Skewness after outlier treatment:\",data0['oldbalanceOrig'].skew())"
   ]
  },
  {
   "cell_type": "markdown",
   "id": "931fb493",
   "metadata": {},
   "source": [
    "* #### We go from highly skewed to moderated data"
   ]
  },
  {
   "cell_type": "code",
   "execution_count": 40,
   "id": "2a7b0c7e",
   "metadata": {},
   "outputs": [
    {
     "data": {
      "text/plain": [
       "<AxesSubplot:xlabel='newbalanceOrig', ylabel='Density'>"
      ]
     },
     "execution_count": 40,
     "metadata": {},
     "output_type": "execute_result"
    },
    {
     "data": {
      "image/png": "[encoded data removed]",
      "text/plain": [
       "<Figure size 432x288 with 1 Axes>"
      ]
     },
     "metadata": {
      "needs_background": "light"
     },
     "output_type": "display_data"
    }
   ],
   "source": [
    "sns.distplot(data0['newbalanceOrig'])"
   ]
  },
  {
   "cell_type": "code",
   "execution_count": 41,
   "id": "6663fbda",
   "metadata": {},
   "outputs": [
    {
     "data": {
      "image/png": "[encoded data removed]",
      "text/plain": [
       "<Figure size 432x288 with 1 Axes>"
      ]
     },
     "metadata": {
      "needs_background": "light"
     },
     "output_type": "display_data"
    }
   ],
   "source": [
    "sns.boxplot(x=data0['newbalanceOrig'])\n",
    "plt.title('newbalanceOrig Outlier Check')\n",
    "plt.show()"
   ]
  },
  {
   "cell_type": "code",
   "execution_count": 42,
   "id": "fc0944ba",
   "metadata": {},
   "outputs": [
    {
     "name": "stdout",
     "output_type": "stream",
     "text": [
      "Upper bound: 445504.93125 Lower bound: -267302.95875\n"
     ]
    }
   ],
   "source": [
    "Qntl1 = data0['newbalanceOrig'].quantile(0.25) \n",
    "Qntl3 = data0['newbalanceOrig'].quantile(0.75)  \n",
    "IQR = Qntl3 -Qntl1\n",
    "lw_newbalanceOrig= Qntl1 - 1.5* IQR\n",
    "up_newbalanceOrig = Qntl3 + 1.5* IQR\n",
    "print(\"Upper bound:\",up_newbalanceOrig, \"Lower bound:\", lw_newbalanceOrig)\n",
    "\n",
    "data0['newbalanceOrig'] = np.where(data0['newbalanceOrig']> up_newbalanceOrig, up_newbalanceOrig, data0['newbalanceOrig'])\n",
    "\n",
    "data0['newbalanceOrig'] = np.where(data0['newbalanceOrig']< lw_newbalanceOrig, lw_newbalanceOrig, data0['newbalanceOrig'])"
   ]
  },
  {
   "cell_type": "code",
   "execution_count": 43,
   "id": "9af277bf",
   "metadata": {},
   "outputs": [
    {
     "data": {
      "image/png": "[encoded data removed]",
      "text/plain": [
       "<Figure size 432x288 with 1 Axes>"
      ]
     },
     "metadata": {
      "needs_background": "light"
     },
     "output_type": "display_data"
    }
   ],
   "source": [
    "sns.boxplot(x=data0['newbalanceOrig'])\n",
    "plt.title('newbalanceOrig After Outlier Check') \n",
    "plt.show()"
   ]
  },
  {
   "cell_type": "code",
   "execution_count": 44,
   "id": "96e63f7f",
   "metadata": {},
   "outputs": [
    {
     "name": "stdout",
     "output_type": "stream",
     "text": [
      "Skewness after outlier treatment: 1.2307585994254728\n"
     ]
    }
   ],
   "source": [
    "print(\"Skewness after outlier treatment:\",data0['newbalanceOrig'].skew()) "
   ]
  },
  {
   "cell_type": "markdown",
   "id": "939b101c",
   "metadata": {},
   "source": [
    "* #### We go from highly skewed to moderated data"
   ]
  },
  {
   "cell_type": "markdown",
   "id": "6a05c69b",
   "metadata": {},
   "source": [
    "## 2.6 Correlation between all numerical variables"
   ]
  },
  {
   "cell_type": "code",
   "execution_count": 45,
   "id": "9d2a05e5",
   "metadata": {},
   "outputs": [
    {
     "data": {
      "text/html": [
       "<style type=\"text/css\">\n",
       "#T_13d52_row0_col0, #T_13d52_row1_col1, #T_13d52_row2_col2, #T_13d52_row3_col3, #T_13d52_row4_col4, #T_13d52_row5_col5, #T_13d52_row6_col6 {\n",
       "  background-color: #000000;\n",
       "  color: #f1f1f1;\n",
       "}\n",
       "#T_13d52_row0_col1, #T_13d52_row0_col2, #T_13d52_row0_col3, #T_13d52_row0_col5, #T_13d52_row2_col0, #T_13d52_row3_col6, #T_13d52_row6_col4, #T_13d52_row6_col5 {\n",
       "  background-color: #ffffff;\n",
       "  color: #000000;\n",
       "}\n",
       "#T_13d52_row0_col4, #T_13d52_row2_col6, #T_13d52_row3_col1, #T_13d52_row6_col1 {\n",
       "  background-color: #f7f7f7;\n",
       "  color: #000000;\n",
       "}\n",
       "#T_13d52_row0_col6, #T_13d52_row2_col1 {\n",
       "  background-color: #fcfcfc;\n",
       "  color: #000000;\n",
       "}\n",
       "#T_13d52_row1_col0, #T_13d52_row2_col5 {\n",
       "  background-color: #f8f8f8;\n",
       "  color: #000000;\n",
       "}\n",
       "#T_13d52_row1_col2, #T_13d52_row5_col0, #T_13d52_row5_col3 {\n",
       "  background-color: #f5f5f5;\n",
       "  color: #000000;\n",
       "}\n",
       "#T_13d52_row1_col3 {\n",
       "  background-color: #f1f1f1;\n",
       "  color: #000000;\n",
       "}\n",
       "#T_13d52_row1_col4 {\n",
       "  background-color: #999999;\n",
       "  color: #f1f1f1;\n",
       "}\n",
       "#T_13d52_row1_col5 {\n",
       "  background-color: #848484;\n",
       "  color: #f1f1f1;\n",
       "}\n",
       "#T_13d52_row1_col6, #T_13d52_row6_col0 {\n",
       "  background-color: #f6f6f6;\n",
       "  color: #000000;\n",
       "}\n",
       "#T_13d52_row2_col3, #T_13d52_row3_col2 {\n",
       "  background-color: #1c1c1c;\n",
       "  color: #f1f1f1;\n",
       "}\n",
       "#T_13d52_row2_col4 {\n",
       "  background-color: #e5e5e5;\n",
       "  color: #000000;\n",
       "}\n",
       "#T_13d52_row3_col0, #T_13d52_row3_col5, #T_13d52_row4_col6 {\n",
       "  background-color: #fefefe;\n",
       "  color: #000000;\n",
       "}\n",
       "#T_13d52_row3_col4 {\n",
       "  background-color: #e2e2e2;\n",
       "  color: #000000;\n",
       "}\n",
       "#T_13d52_row4_col0 {\n",
       "  background-color: #efefef;\n",
       "  color: #000000;\n",
       "}\n",
       "#T_13d52_row4_col1 {\n",
       "  background-color: #989898;\n",
       "  color: #f1f1f1;\n",
       "}\n",
       "#T_13d52_row4_col2 {\n",
       "  background-color: #dddddd;\n",
       "  color: #000000;\n",
       "}\n",
       "#T_13d52_row4_col3 {\n",
       "  background-color: #dcdcdc;\n",
       "  color: #000000;\n",
       "}\n",
       "#T_13d52_row4_col5 {\n",
       "  background-color: #0c0c0c;\n",
       "  color: #f1f1f1;\n",
       "}\n",
       "#T_13d52_row5_col1 {\n",
       "  background-color: #828282;\n",
       "  color: #f1f1f1;\n",
       "}\n",
       "#T_13d52_row5_col2 {\n",
       "  background-color: #eeeeee;\n",
       "  color: #000000;\n",
       "}\n",
       "#T_13d52_row5_col4 {\n",
       "  background-color: #0b0b0b;\n",
       "  color: #f1f1f1;\n",
       "}\n",
       "#T_13d52_row5_col6 {\n",
       "  background-color: #fdfdfd;\n",
       "  color: #000000;\n",
       "}\n",
       "#T_13d52_row6_col2 {\n",
       "  background-color: #f0f0f0;\n",
       "  color: #000000;\n",
       "}\n",
       "#T_13d52_row6_col3 {\n",
       "  background-color: #fafafa;\n",
       "  color: #000000;\n",
       "}\n",
       "</style>\n",
       "<table id=\"T_13d52\">\n",
       "  <thead>\n",
       "    <tr>\n",
       "      <th class=\"blank level0\" >&nbsp;</th>\n",
       "      <th id=\"T_13d52_level0_col0\" class=\"col_heading level0 col0\" >step</th>\n",
       "      <th id=\"T_13d52_level0_col1\" class=\"col_heading level0 col1\" >amount</th>\n",
       "      <th id=\"T_13d52_level0_col2\" class=\"col_heading level0 col2\" >oldbalanceOrig</th>\n",
       "      <th id=\"T_13d52_level0_col3\" class=\"col_heading level0 col3\" >newbalanceOrig</th>\n",
       "      <th id=\"T_13d52_level0_col4\" class=\"col_heading level0 col4\" >oldbalanceDest</th>\n",
       "      <th id=\"T_13d52_level0_col5\" class=\"col_heading level0 col5\" >newbalanceDest</th>\n",
       "      <th id=\"T_13d52_level0_col6\" class=\"col_heading level0 col6\" >isFraud</th>\n",
       "    </tr>\n",
       "  </thead>\n",
       "  <tbody>\n",
       "    <tr>\n",
       "      <th id=\"T_13d52_level0_row0\" class=\"row_heading level0 row0\" >step</th>\n",
       "      <td id=\"T_13d52_row0_col0\" class=\"data row0 col0\" >1.000000</td>\n",
       "      <td id=\"T_13d52_row0_col1\" class=\"data row0 col1\" >-0.010810</td>\n",
       "      <td id=\"T_13d52_row0_col2\" class=\"data row0 col2\" >-0.041906</td>\n",
       "      <td id=\"T_13d52_row0_col3\" class=\"data row0 col3\" >-0.036220</td>\n",
       "      <td id=\"T_13d52_row0_col4\" class=\"data row0 col4\" >0.023661</td>\n",
       "      <td id=\"T_13d52_row0_col5\" class=\"data row0 col5\" >-0.001032</td>\n",
       "      <td id=\"T_13d52_row0_col6\" class=\"data row0 col6\" >-0.002099</td>\n",
       "    </tr>\n",
       "    <tr>\n",
       "      <th id=\"T_13d52_level0_row1\" class=\"row_heading level0 row1\" >amount</th>\n",
       "      <td id=\"T_13d52_row1_col0\" class=\"data row1 col0\" >-0.010810</td>\n",
       "      <td id=\"T_13d52_row1_col1\" class=\"data row1 col1\" >1.000000</td>\n",
       "      <td id=\"T_13d52_row1_col2\" class=\"data row1 col2\" >0.001910</td>\n",
       "      <td id=\"T_13d52_row1_col3\" class=\"data row1 col3\" >0.021371</td>\n",
       "      <td id=\"T_13d52_row1_col4\" class=\"data row1 col4\" >0.396573</td>\n",
       "      <td id=\"T_13d52_row1_col5\" class=\"data row1 col5\" >0.483070</td>\n",
       "      <td id=\"T_13d52_row1_col6\" class=\"data row1 col6\" >0.022430</td>\n",
       "    </tr>\n",
       "    <tr>\n",
       "      <th id=\"T_13d52_level0_row2\" class=\"row_heading level0 row2\" >oldbalanceOrig</th>\n",
       "      <td id=\"T_13d52_row2_col0\" class=\"data row2 col0\" >-0.041906</td>\n",
       "      <td id=\"T_13d52_row2_col1\" class=\"data row2 col1\" >0.001910</td>\n",
       "      <td id=\"T_13d52_row2_col2\" class=\"data row2 col2\" >1.000000</td>\n",
       "      <td id=\"T_13d52_row2_col3\" class=\"data row2 col3\" >0.885947</td>\n",
       "      <td id=\"T_13d52_row2_col4\" class=\"data row2 col4\" >0.096748</td>\n",
       "      <td id=\"T_13d52_row2_col5\" class=\"data row2 col5\" >0.027761</td>\n",
       "      <td id=\"T_13d52_row2_col6\" class=\"data row2 col6\" >0.019598</td>\n",
       "    </tr>\n",
       "    <tr>\n",
       "      <th id=\"T_13d52_level0_row3\" class=\"row_heading level0 row3\" >newbalanceOrig</th>\n",
       "      <td id=\"T_13d52_row3_col0\" class=\"data row3 col0\" >-0.036220</td>\n",
       "      <td id=\"T_13d52_row3_col1\" class=\"data row3 col1\" >0.021371</td>\n",
       "      <td id=\"T_13d52_row3_col2\" class=\"data row3 col2\" >0.885947</td>\n",
       "      <td id=\"T_13d52_row3_col3\" class=\"data row3 col3\" >1.000000</td>\n",
       "      <td id=\"T_13d52_row3_col4\" class=\"data row3 col4\" >0.107712</td>\n",
       "      <td id=\"T_13d52_row3_col5\" class=\"data row3 col5\" >0.005303</td>\n",
       "      <td id=\"T_13d52_row3_col6\" class=\"data row3 col6\" >-0.014187</td>\n",
       "    </tr>\n",
       "    <tr>\n",
       "      <th id=\"T_13d52_level0_row4\" class=\"row_heading level0 row4\" >oldbalanceDest</th>\n",
       "      <td id=\"T_13d52_row4_col0\" class=\"data row4 col0\" >0.023661</td>\n",
       "      <td id=\"T_13d52_row4_col1\" class=\"data row4 col1\" >0.396573</td>\n",
       "      <td id=\"T_13d52_row4_col2\" class=\"data row4 col2\" >0.096748</td>\n",
       "      <td id=\"T_13d52_row4_col3\" class=\"data row4 col3\" >0.107712</td>\n",
       "      <td id=\"T_13d52_row4_col4\" class=\"data row4 col4\" >1.000000</td>\n",
       "      <td id=\"T_13d52_row4_col5\" class=\"data row4 col5\" >0.952743</td>\n",
       "      <td id=\"T_13d52_row4_col6\" class=\"data row4 col6\" >-0.008260</td>\n",
       "    </tr>\n",
       "    <tr>\n",
       "      <th id=\"T_13d52_level0_row5\" class=\"row_heading level0 row5\" >newbalanceDest</th>\n",
       "      <td id=\"T_13d52_row5_col0\" class=\"data row5 col0\" >-0.001032</td>\n",
       "      <td id=\"T_13d52_row5_col1\" class=\"data row5 col1\" >0.483070</td>\n",
       "      <td id=\"T_13d52_row5_col2\" class=\"data row5 col2\" >0.027761</td>\n",
       "      <td id=\"T_13d52_row5_col3\" class=\"data row5 col3\" >0.005303</td>\n",
       "      <td id=\"T_13d52_row5_col4\" class=\"data row5 col4\" >0.952743</td>\n",
       "      <td id=\"T_13d52_row5_col5\" class=\"data row5 col5\" >1.000000</td>\n",
       "      <td id=\"T_13d52_row5_col6\" class=\"data row5 col6\" >-0.002366</td>\n",
       "    </tr>\n",
       "    <tr>\n",
       "      <th id=\"T_13d52_level0_row6\" class=\"row_heading level0 row6\" >isFraud</th>\n",
       "      <td id=\"T_13d52_row6_col0\" class=\"data row6 col0\" >-0.002099</td>\n",
       "      <td id=\"T_13d52_row6_col1\" class=\"data row6 col1\" >0.022430</td>\n",
       "      <td id=\"T_13d52_row6_col2\" class=\"data row6 col2\" >0.019598</td>\n",
       "      <td id=\"T_13d52_row6_col3\" class=\"data row6 col3\" >-0.014187</td>\n",
       "      <td id=\"T_13d52_row6_col4\" class=\"data row6 col4\" >-0.008260</td>\n",
       "      <td id=\"T_13d52_row6_col5\" class=\"data row6 col5\" >-0.002366</td>\n",
       "      <td id=\"T_13d52_row6_col6\" class=\"data row6 col6\" >1.000000</td>\n",
       "    </tr>\n",
       "  </tbody>\n",
       "</table>\n"
      ],
      "text/plain": [
       "<pandas.io.formats.style.Styler at 0x19e12179b20>"
      ]
     },
     "execution_count": 45,
     "metadata": {},
     "output_type": "execute_result"
    }
   ],
   "source": [
    "# Correlation\n",
    "data0.corr().style.background_gradient (cmap='binary')"
   ]
  },
  {
   "cell_type": "markdown",
   "id": "86cc3f83",
   "metadata": {},
   "source": [
    "## 2.7 Covert categorical to numeric"
   ]
  },
  {
   "cell_type": "code",
   "execution_count": 46,
   "id": "a5a6359a",
   "metadata": {},
   "outputs": [
    {
     "data": {
      "text/plain": [
       "['type', 'nameOrig', 'nameDest']"
      ]
     },
     "execution_count": 46,
     "metadata": {},
     "output_type": "execute_result"
    }
   ],
   "source": [
    "cat_col"
   ]
  },
  {
   "cell_type": "code",
   "execution_count": 47,
   "id": "0acebc09",
   "metadata": {},
   "outputs": [
    {
     "data": {
      "text/plain": [
       "array(['PAYMENT', 'TRANSFER', 'CASH_OUT', 'CASH_IN', 'DEBIT'],\n",
       "      dtype=object)"
      ]
     },
     "execution_count": 47,
     "metadata": {},
     "output_type": "execute_result"
    }
   ],
   "source": [
    "data0['type'].unique()"
   ]
  },
  {
   "cell_type": "code",
   "execution_count": 48,
   "id": "85fcd5fe",
   "metadata": {},
   "outputs": [
    {
     "data": {
      "text/plain": [
       "array([3, 4, 1, 0, 2])"
      ]
     },
     "execution_count": 48,
     "metadata": {},
     "output_type": "execute_result"
    }
   ],
   "source": [
    "# Import label encoder\n",
    "from sklearn import preprocessing\n",
    "  \n",
    "# label_encoder object knows how to understand word labels.\n",
    "label_encoder = preprocessing.LabelEncoder()\n",
    "  \n",
    "# Encode labels in column 'type'.\n",
    "data0['type']= label_encoder.fit_transform(data0['type'])\n",
    "  \n",
    "data0['type'].unique()"
   ]
  },
  {
   "cell_type": "markdown",
   "id": "627c9b4d",
   "metadata": {},
   "source": [
    "#### Let's find the Frequency of each unique categorical values of feature \"nameOrig\""
   ]
  },
  {
   "cell_type": "code",
   "execution_count": 49,
   "id": "cb881d54",
   "metadata": {},
   "outputs": [],
   "source": [
    "enc_nameOrig= (data0.groupby('nameOrig').size()) \n",
    "#enc_nameOrig"
   ]
  },
  {
   "cell_type": "code",
   "execution_count": 50,
   "id": "887f3f5b",
   "metadata": {},
   "outputs": [],
   "source": [
    "data0['nameOrig_encode'] = data0['nameOrig'].apply(lambda x : enc_nameOrig[x])"
   ]
  },
  {
   "cell_type": "markdown",
   "id": "177bd683",
   "metadata": {},
   "source": [
    "#### Let's find the Frequency of each unique categorical values of feature \"nameDest\""
   ]
  },
  {
   "cell_type": "code",
   "execution_count": 51,
   "id": "ece8c679",
   "metadata": {},
   "outputs": [],
   "source": [
    "enc_nameDest= (data0.groupby('nameDest').size()) \n",
    "#enc_nameDest"
   ]
  },
  {
   "cell_type": "code",
   "execution_count": 52,
   "id": "7f3ee940",
   "metadata": {},
   "outputs": [],
   "source": [
    "data0['nameDest_encode'] = data0['nameDest'].apply(lambda x : enc_nameDest[x])\n"
   ]
  },
  {
   "cell_type": "markdown",
   "id": "e674e162",
   "metadata": {},
   "source": [
    "### Information value and WOE"
   ]
  },
  {
   "cell_type": "code",
   "execution_count": 53,
   "id": "7fe04900",
   "metadata": {},
   "outputs": [],
   "source": [
    "def iv_woe(data, target, bins=10, show_woe=False):\n",
    "    \n",
    "    #Empty Dataframe\n",
    "    newDF,woeDF = pd.DataFrame(), pd.DataFrame()\n",
    "    \n",
    "    #Extract Column Names\n",
    "    cols = data.columns\n",
    "    \n",
    "    #Run WOE and IV on all the independent variables\n",
    "    for ivars in cols[~cols.isin([target])]:\n",
    "        if (data[ivars].dtype.kind in 'bifc') and (len(np.unique(data[ivars]))>10):\n",
    "            binned_x = pd.qcut(data[ivars], bins,  duplicates='drop')\n",
    "            d0 = pd.DataFrame({'x': binned_x, 'y': data[target]})\n",
    "        else:\n",
    "            d0 = pd.DataFrame({'x': data[ivars], 'y': data[target]})\n",
    "\n",
    "        \n",
    "        # Calculate the number of events in each group (bin)\n",
    "        d = d0.groupby(\"x\", as_index=False).agg({\"y\": [\"count\", \"sum\"]})\n",
    "        d.columns = ['Cutoff', 'N', 'Events']\n",
    "        \n",
    "        # Calculate % of events in each group.\n",
    "        d['% of Events'] = np.maximum(d['Events'], 0.5) / d['Events'].sum()\n",
    "\n",
    "        # Calculate the non events in each group.\n",
    "        d['Non-Events'] = d['N'] - d['Events']\n",
    "        # Calculate % of non events in each group.\n",
    "        d['% of Non-Events'] = np.maximum(d['Non-Events'], 0.5) / d['Non-Events'].sum()\n",
    "\n",
    "        # Calculate WOE by taking natural log of division of % of non-events and % of events\n",
    "        d['WoE'] = np.log(d['% of Events']/d['% of Non-Events'])\n",
    "        d['IV'] = d['WoE'] * (d['% of Events'] - d['% of Non-Events'])\n",
    "        d.insert(loc=0, column='Variable', value=ivars)\n",
    "        print(\"Information value of \" + ivars + \" is \" + str(round(d['IV'].sum(),6)))\n",
    "        temp =pd.DataFrame({\"Variable\" : [ivars], \"IV\" : [d['IV'].sum()]}, columns = [\"Variable\", \"IV\"])\n",
    "        newDF=pd.concat([newDF,temp], axis=0)\n",
    "        woeDF=pd.concat([woeDF,d], axis=0)\n",
    "\n",
    "        #Show WOE Table\n",
    "        if show_woe == True:\n",
    "            print(d)\n",
    "    return newDF, woeDF"
   ]
  },
  {
   "cell_type": "code",
   "execution_count": 54,
   "id": "5680da0b",
   "metadata": {},
   "outputs": [],
   "source": [
    "temp0 = data0.drop(['nameOrig', 'nameDest'], axis=1)"
   ]
  },
  {
   "cell_type": "code",
   "execution_count": 55,
   "id": "ecad1e4d",
   "metadata": {},
   "outputs": [
    {
     "name": "stdout",
     "output_type": "stream",
     "text": [
      "Information value of step is 0.514532\n",
      "Information value of type is 3.700355\n",
      "Information value of amount is 0.836821\n",
      "Information value of oldbalanceOrig is 0.842558\n",
      "Information value of newbalanceOrig is 1.663662\n",
      "Information value of oldbalanceDest is 0.27596\n",
      "Information value of newbalanceDest is 0.087312\n",
      "Information value of nameOrig_encode is 0.001402\n",
      "Information value of nameDest_encode is 0.055562\n"
     ]
    }
   ],
   "source": [
    "a = iv_woe(temp0, 'isFraud', bins=10, show_woe=False)\n",
    "df_IV = a[0]\n",
    "df_woe = a[1]"
   ]
  },
  {
   "cell_type": "code",
   "execution_count": 56,
   "id": "cc6690ec",
   "metadata": {},
   "outputs": [
    {
     "data": {
      "text/html": [
       "<div>\n",
       "<style scoped>\n",
       "    .dataframe tbody tr th:only-of-type {\n",
       "        vertical-align: middle;\n",
       "    }\n",
       "\n",
       "    .dataframe tbody tr th {\n",
       "        vertical-align: top;\n",
       "    }\n",
       "\n",
       "    .dataframe thead th {\n",
       "        text-align: right;\n",
       "    }\n",
       "</style>\n",
       "<table border=\"1\" class=\"dataframe\">\n",
       "  <thead>\n",
       "    <tr style=\"text-align: right;\">\n",
       "      <th></th>\n",
       "      <th>Variable</th>\n",
       "      <th>IV</th>\n",
       "    </tr>\n",
       "  </thead>\n",
       "  <tbody>\n",
       "    <tr>\n",
       "      <th>0</th>\n",
       "      <td>nameOrig_encode</td>\n",
       "      <td>0.001402</td>\n",
       "    </tr>\n",
       "    <tr>\n",
       "      <th>0</th>\n",
       "      <td>nameDest_encode</td>\n",
       "      <td>0.055562</td>\n",
       "    </tr>\n",
       "    <tr>\n",
       "      <th>0</th>\n",
       "      <td>newbalanceDest</td>\n",
       "      <td>0.087312</td>\n",
       "    </tr>\n",
       "    <tr>\n",
       "      <th>0</th>\n",
       "      <td>oldbalanceDest</td>\n",
       "      <td>0.275960</td>\n",
       "    </tr>\n",
       "    <tr>\n",
       "      <th>0</th>\n",
       "      <td>step</td>\n",
       "      <td>0.514532</td>\n",
       "    </tr>\n",
       "    <tr>\n",
       "      <th>0</th>\n",
       "      <td>amount</td>\n",
       "      <td>0.836821</td>\n",
       "    </tr>\n",
       "    <tr>\n",
       "      <th>0</th>\n",
       "      <td>oldbalanceOrig</td>\n",
       "      <td>0.842558</td>\n",
       "    </tr>\n",
       "    <tr>\n",
       "      <th>0</th>\n",
       "      <td>newbalanceOrig</td>\n",
       "      <td>1.663662</td>\n",
       "    </tr>\n",
       "    <tr>\n",
       "      <th>0</th>\n",
       "      <td>type</td>\n",
       "      <td>3.700355</td>\n",
       "    </tr>\n",
       "  </tbody>\n",
       "</table>\n",
       "</div>"
      ],
      "text/plain": [
       "          Variable        IV\n",
       "0  nameOrig_encode  0.001402\n",
       "0  nameDest_encode  0.055562\n",
       "0   newbalanceDest  0.087312\n",
       "0   oldbalanceDest  0.275960\n",
       "0             step  0.514532\n",
       "0           amount  0.836821\n",
       "0   oldbalanceOrig  0.842558\n",
       "0   newbalanceOrig  1.663662\n",
       "0             type  3.700355"
      ]
     },
     "execution_count": 56,
     "metadata": {},
     "output_type": "execute_result"
    }
   ],
   "source": [
    "df_IV = df_IV.sort_values(by=['IV'])\n",
    "df_IV"
   ]
  },
  {
   "cell_type": "code",
   "execution_count": 57,
   "id": "5c4c8539",
   "metadata": {},
   "outputs": [],
   "source": [
    "df_train = temp0.drop(['nameOrig_encode', 'nameDest_encode'], axis=1)"
   ]
  },
  {
   "cell_type": "markdown",
   "id": "cce7545f",
   "metadata": {},
   "source": [
    "### Checking VIF"
   ]
  },
  {
   "cell_type": "code",
   "execution_count": 58,
   "id": "3519d289",
   "metadata": {},
   "outputs": [
    {
     "data": {
      "text/html": [
       "<div>\n",
       "<style scoped>\n",
       "    .dataframe tbody tr th:only-of-type {\n",
       "        vertical-align: middle;\n",
       "    }\n",
       "\n",
       "    .dataframe tbody tr th {\n",
       "        vertical-align: top;\n",
       "    }\n",
       "\n",
       "    .dataframe thead th {\n",
       "        text-align: right;\n",
       "    }\n",
       "</style>\n",
       "<table border=\"1\" class=\"dataframe\">\n",
       "  <thead>\n",
       "    <tr style=\"text-align: right;\">\n",
       "      <th></th>\n",
       "      <th>Variable</th>\n",
       "      <th>VIF</th>\n",
       "    </tr>\n",
       "  </thead>\n",
       "  <tbody>\n",
       "    <tr>\n",
       "      <th>0</th>\n",
       "      <td>type</td>\n",
       "      <td>2.260139</td>\n",
       "    </tr>\n",
       "    <tr>\n",
       "      <th>1</th>\n",
       "      <td>amount</td>\n",
       "      <td>2.458154</td>\n",
       "    </tr>\n",
       "    <tr>\n",
       "      <th>2</th>\n",
       "      <td>step</td>\n",
       "      <td>3.036950</td>\n",
       "    </tr>\n",
       "    <tr>\n",
       "      <th>3</th>\n",
       "      <td>oldbalanceOrig</td>\n",
       "      <td>7.414266</td>\n",
       "    </tr>\n",
       "    <tr>\n",
       "      <th>4</th>\n",
       "      <td>newbalanceOrig</td>\n",
       "      <td>7.882899</td>\n",
       "    </tr>\n",
       "    <tr>\n",
       "      <th>5</th>\n",
       "      <td>oldbalanceDest</td>\n",
       "      <td>21.362731</td>\n",
       "    </tr>\n",
       "    <tr>\n",
       "      <th>6</th>\n",
       "      <td>newbalanceDest</td>\n",
       "      <td>23.445370</td>\n",
       "    </tr>\n",
       "  </tbody>\n",
       "</table>\n",
       "</div>"
      ],
      "text/plain": [
       "         Variable        VIF\n",
       "0            type   2.260139\n",
       "1          amount   2.458154\n",
       "2            step   3.036950\n",
       "3  oldbalanceOrig   7.414266\n",
       "4  newbalanceOrig   7.882899\n",
       "5  oldbalanceDest  21.362731\n",
       "6  newbalanceDest  23.445370"
      ]
     },
     "execution_count": 58,
     "metadata": {},
     "output_type": "execute_result"
    }
   ],
   "source": [
    "## VIF\n",
    "x = df_train.drop(['isFraud'], axis=1)\n",
    "df_vif= pd.DataFrame()\n",
    "df_vif['Variable'] = x.columns\n",
    "df_vif['VIF'] = [variance_inflation_factor(x.values, i) for i in range(len(x.columns))]\n",
    "df_vif = df_vif.sort_values('VIF')\n",
    "df_vif.reset_index(drop=True, inplace =True)\n",
    "df_vif"
   ]
  },
  {
   "cell_type": "markdown",
   "id": "c099725d",
   "metadata": {},
   "source": [
    "#### newbalanceDes column has high VIF, so need to drop it"
   ]
  },
  {
   "cell_type": "code",
   "execution_count": 59,
   "id": "bca3a951",
   "metadata": {},
   "outputs": [
    {
     "data": {
      "text/html": [
       "<div>\n",
       "<style scoped>\n",
       "    .dataframe tbody tr th:only-of-type {\n",
       "        vertical-align: middle;\n",
       "    }\n",
       "\n",
       "    .dataframe tbody tr th {\n",
       "        vertical-align: top;\n",
       "    }\n",
       "\n",
       "    .dataframe thead th {\n",
       "        text-align: right;\n",
       "    }\n",
       "</style>\n",
       "<table border=\"1\" class=\"dataframe\">\n",
       "  <thead>\n",
       "    <tr style=\"text-align: right;\">\n",
       "      <th></th>\n",
       "      <th>Variable</th>\n",
       "      <th>VIF</th>\n",
       "    </tr>\n",
       "  </thead>\n",
       "  <tbody>\n",
       "    <tr>\n",
       "      <th>0</th>\n",
       "      <td>oldbalanceDest</td>\n",
       "      <td>1.838420</td>\n",
       "    </tr>\n",
       "    <tr>\n",
       "      <th>1</th>\n",
       "      <td>amount</td>\n",
       "      <td>2.014354</td>\n",
       "    </tr>\n",
       "    <tr>\n",
       "      <th>2</th>\n",
       "      <td>type</td>\n",
       "      <td>2.216234</td>\n",
       "    </tr>\n",
       "    <tr>\n",
       "      <th>3</th>\n",
       "      <td>step</td>\n",
       "      <td>3.005722</td>\n",
       "    </tr>\n",
       "    <tr>\n",
       "      <th>4</th>\n",
       "      <td>oldbalanceOrig</td>\n",
       "      <td>7.196799</td>\n",
       "    </tr>\n",
       "    <tr>\n",
       "      <th>5</th>\n",
       "      <td>newbalanceOrig</td>\n",
       "      <td>7.276304</td>\n",
       "    </tr>\n",
       "  </tbody>\n",
       "</table>\n",
       "</div>"
      ],
      "text/plain": [
       "         Variable       VIF\n",
       "0  oldbalanceDest  1.838420\n",
       "1          amount  2.014354\n",
       "2            type  2.216234\n",
       "3            step  3.005722\n",
       "4  oldbalanceOrig  7.196799\n",
       "5  newbalanceOrig  7.276304"
      ]
     },
     "execution_count": 59,
     "metadata": {},
     "output_type": "execute_result"
    }
   ],
   "source": [
    "## VIF\n",
    "x = df_train.drop(['isFraud', 'newbalanceDest'], axis=1)\n",
    "df_vif= pd.DataFrame()\n",
    "df_vif['Variable'] = x.columns\n",
    "df_vif['VIF'] = [variance_inflation_factor(x.values, i) for i in range(len(x.columns))]\n",
    "df_vif = df_vif.sort_values('VIF')\n",
    "df_vif.reset_index(drop=True, inplace =True)\n",
    "df_vif"
   ]
  },
  {
   "cell_type": "markdown",
   "id": "6eebde84",
   "metadata": {},
   "source": [
    "* #### Now we getting VIF< 10, so there is no multicollinearity "
   ]
  },
  {
   "cell_type": "code",
   "execution_count": 60,
   "id": "1cb4ce3c",
   "metadata": {},
   "outputs": [
    {
     "data": {
      "text/plain": [
       "['oldbalanceDest',\n",
       " 'amount',\n",
       " 'type',\n",
       " 'step',\n",
       " 'oldbalanceOrig',\n",
       " 'newbalanceOrig']"
      ]
     },
     "execution_count": 60,
     "metadata": {},
     "output_type": "execute_result"
    }
   ],
   "source": [
    "# list of independent variables use in model\n",
    "ind_var = df_vif['Variable'].to_list()\n",
    "ind_var"
   ]
  },
  {
   "cell_type": "markdown",
   "id": "03c7ec6a",
   "metadata": {},
   "source": [
    "# 3. Model Developemnt"
   ]
  },
  {
   "cell_type": "code",
   "execution_count": 61,
   "id": "9b715a77",
   "metadata": {},
   "outputs": [
    {
     "name": "stderr",
     "output_type": "stream",
     "text": [
      "C:\\Users\\Dell\\anaconda3\\lib\\site-packages\\sklearn\\utils\\validation.py:993: DataConversionWarning: A column-vector y was passed when a 1d array was expected. Please change the shape of y to (n_samples, ), for example using ravel().\n",
      "  y = column_or_1d(y, warn=True)\n"
     ]
    }
   ],
   "source": [
    "model= LogisticRegression()\n",
    "# defining the dependent and independent variables\n",
    "Xtrain = temp0[ind_var]\n",
    "Xtrain = sm.add_constant(Xtrain)\n",
    "ytrain = temp0[['isFraud']]\n",
    "\n",
    "# building the model and fitting the data\n",
    "log_reg = model.fit(Xtrain, ytrain)"
   ]
  },
  {
   "cell_type": "code",
   "execution_count": 62,
   "id": "c2f1b77a",
   "metadata": {},
   "outputs": [],
   "source": [
    "# predication of target variable based on train data\n",
    "yhat = log_reg.predict(Xtrain)\n",
    "prediction = list(map(round, yhat))"
   ]
  },
  {
   "cell_type": "code",
   "execution_count": 63,
   "id": "33db51ec",
   "metadata": {},
   "outputs": [
    {
     "data": {
      "text/plain": [
       "array([[706456,     51],\n",
       "       [   353,     18]], dtype=int64)"
      ]
     },
     "execution_count": 63,
     "metadata": {},
     "output_type": "execute_result"
    }
   ],
   "source": [
    "# confusion matrix \n",
    "confusion_matrix(ytrain, prediction)"
   ]
  },
  {
   "cell_type": "code",
   "execution_count": 64,
   "id": "232b872a",
   "metadata": {},
   "outputs": [
    {
     "data": {
      "text/plain": [
       "<sklearn.metrics._plot.roc_curve.RocCurveDisplay at 0x19e10a42ca0>"
      ]
     },
     "execution_count": 64,
     "metadata": {},
     "output_type": "execute_result"
    },
    {
     "data": {
      "image/png": "[encoded data removed]",
      "text/plain": [
       "<Figure size 432x288 with 1 Axes>"
      ]
     },
     "metadata": {
      "needs_background": "light"
     },
     "output_type": "display_data"
    }
   ],
   "source": [
    "# reciever operating characterstics curve\n",
    "plot_roc_curve(model,Xtrain,ytrain)"
   ]
  },
  {
   "cell_type": "code",
   "execution_count": 65,
   "id": "302f6486",
   "metadata": {},
   "outputs": [
    {
     "name": "stdout",
     "output_type": "stream",
     "text": [
      "              precision    recall  f1-score   support\n",
      "\n",
      "           0       1.00      1.00      1.00    706809\n",
      "           1       0.05      0.26      0.08        69\n",
      "\n",
      "    accuracy                           1.00    706878\n",
      "   macro avg       0.52      0.63      0.54    706878\n",
      "weighted avg       1.00      1.00      1.00    706878\n",
      "\n"
     ]
    }
   ],
   "source": [
    "# classification report \n",
    "print(classification_report( prediction, ytrain))"
   ]
  },
  {
   "cell_type": "markdown",
   "id": "05581e10",
   "metadata": {},
   "source": [
    "###  Performance check on test data"
   ]
  },
  {
   "cell_type": "code",
   "execution_count": 66,
   "id": "2952678e",
   "metadata": {},
   "outputs": [
    {
     "data": {
      "text/html": [
       "<div>\n",
       "<style scoped>\n",
       "    .dataframe tbody tr th:only-of-type {\n",
       "        vertical-align: middle;\n",
       "    }\n",
       "\n",
       "    .dataframe tbody tr th {\n",
       "        vertical-align: top;\n",
       "    }\n",
       "\n",
       "    .dataframe thead th {\n",
       "        text-align: right;\n",
       "    }\n",
       "</style>\n",
       "<table border=\"1\" class=\"dataframe\">\n",
       "  <thead>\n",
       "    <tr style=\"text-align: right;\">\n",
       "      <th></th>\n",
       "      <th>step</th>\n",
       "      <th>type</th>\n",
       "      <th>amount</th>\n",
       "      <th>nameOrig</th>\n",
       "      <th>oldbalanceOrig</th>\n",
       "      <th>newbalanceOrig</th>\n",
       "      <th>nameDest</th>\n",
       "      <th>oldbalanceDest</th>\n",
       "      <th>newbalanceDest</th>\n",
       "      <th>isFraud</th>\n",
       "    </tr>\n",
       "  </thead>\n",
       "  <tbody>\n",
       "    <tr>\n",
       "      <th>0</th>\n",
       "      <td>45</td>\n",
       "      <td>TRANSFER</td>\n",
       "      <td>255078.28</td>\n",
       "      <td>C1486558577</td>\n",
       "      <td>0.00</td>\n",
       "      <td>0.00</td>\n",
       "      <td>C1158064761</td>\n",
       "      <td>626244.24</td>\n",
       "      <td>881322.52</td>\n",
       "      <td>0</td>\n",
       "    </tr>\n",
       "    <tr>\n",
       "      <th>1</th>\n",
       "      <td>14</td>\n",
       "      <td>PAYMENT</td>\n",
       "      <td>9556.60</td>\n",
       "      <td>C1712461654</td>\n",
       "      <td>200835.82</td>\n",
       "      <td>191279.22</td>\n",
       "      <td>M349311</td>\n",
       "      <td>0.00</td>\n",
       "      <td>0.00</td>\n",
       "      <td>0</td>\n",
       "    </tr>\n",
       "    <tr>\n",
       "      <th>2</th>\n",
       "      <td>37</td>\n",
       "      <td>CASH_OUT</td>\n",
       "      <td>157209.11</td>\n",
       "      <td>C58057354</td>\n",
       "      <td>0.00</td>\n",
       "      <td>0.00</td>\n",
       "      <td>C655035728</td>\n",
       "      <td>231878.20</td>\n",
       "      <td>389087.31</td>\n",
       "      <td>0</td>\n",
       "    </tr>\n",
       "    <tr>\n",
       "      <th>3</th>\n",
       "      <td>18</td>\n",
       "      <td>CASH_OUT</td>\n",
       "      <td>168316.56</td>\n",
       "      <td>C1523285187</td>\n",
       "      <td>21398.00</td>\n",
       "      <td>0.00</td>\n",
       "      <td>C1103647694</td>\n",
       "      <td>0.00</td>\n",
       "      <td>446648.85</td>\n",
       "      <td>0</td>\n",
       "    </tr>\n",
       "    <tr>\n",
       "      <th>4</th>\n",
       "      <td>44</td>\n",
       "      <td>PAYMENT</td>\n",
       "      <td>11562.41</td>\n",
       "      <td>C1222719612</td>\n",
       "      <td>41935.00</td>\n",
       "      <td>30372.59</td>\n",
       "      <td>M1077753894</td>\n",
       "      <td>0.00</td>\n",
       "      <td>0.00</td>\n",
       "      <td>0</td>\n",
       "    </tr>\n",
       "  </tbody>\n",
       "</table>\n",
       "</div>"
      ],
      "text/plain": [
       "   step      type     amount     nameOrig  oldbalanceOrig  newbalanceOrig  \\\n",
       "0    45  TRANSFER  255078.28  C1486558577            0.00            0.00   \n",
       "1    14   PAYMENT    9556.60  C1712461654       200835.82       191279.22   \n",
       "2    37  CASH_OUT  157209.11    C58057354            0.00            0.00   \n",
       "3    18  CASH_OUT  168316.56  C1523285187        21398.00            0.00   \n",
       "4    44   PAYMENT   11562.41  C1222719612        41935.00        30372.59   \n",
       "\n",
       "      nameDest  oldbalanceDest  newbalanceDest  isFraud  \n",
       "0  C1158064761       626244.24       881322.52        0  \n",
       "1      M349311            0.00            0.00        0  \n",
       "2   C655035728       231878.20       389087.31        0  \n",
       "3  C1103647694            0.00       446648.85        0  \n",
       "4  M1077753894            0.00            0.00        0  "
      ]
     },
     "execution_count": 66,
     "metadata": {},
     "output_type": "execute_result"
    }
   ],
   "source": [
    "data0= pd.concat([x_test.reset_index(drop=True), y_test.reset_index(drop=True)], axis=1)\n",
    "data0.head()"
   ]
  },
  {
   "cell_type": "code",
   "execution_count": 67,
   "id": "d0e130da",
   "metadata": {},
   "outputs": [
    {
     "data": {
      "text/plain": [
       "array([4, 3, 1, 0, 2])"
      ]
     },
     "execution_count": 67,
     "metadata": {},
     "output_type": "execute_result"
    }
   ],
   "source": [
    "# label_encoder object knows how to understand word labels.\n",
    "label_encoder = preprocessing.LabelEncoder()\n",
    "  \n",
    "# Encode labels in column 'type'.\n",
    "data0['type']= label_encoder.fit_transform(data0['type'])\n",
    "  \n",
    "data0['type'].unique()"
   ]
  },
  {
   "cell_type": "code",
   "execution_count": 68,
   "id": "b64d6bb6",
   "metadata": {},
   "outputs": [],
   "source": [
    "# defining the dependent and independent variables\n",
    "Xtest = data0[ind_var]\n",
    "Xtest = sm.add_constant(Xtest)\n",
    "ytest = data0[['isFraud']]"
   ]
  },
  {
   "cell_type": "code",
   "execution_count": 69,
   "id": "a136d2a6",
   "metadata": {},
   "outputs": [],
   "source": [
    "yhat = log_reg.predict(Xtest)\n",
    "prediction = list(map(round, yhat))"
   ]
  },
  {
   "cell_type": "code",
   "execution_count": 70,
   "id": "4fc5d122",
   "metadata": {},
   "outputs": [
    {
     "data": {
      "text/plain": [
       "array([[302673,    104],\n",
       "       [   124,     48]], dtype=int64)"
      ]
     },
     "execution_count": 70,
     "metadata": {},
     "output_type": "execute_result"
    }
   ],
   "source": [
    "confusion_matrix(ytest, prediction)"
   ]
  },
  {
   "cell_type": "code",
   "execution_count": 71,
   "id": "3695df65",
   "metadata": {},
   "outputs": [
    {
     "data": {
      "text/plain": [
       "<sklearn.metrics._plot.roc_curve.RocCurveDisplay at 0x19e125316d0>"
      ]
     },
     "execution_count": 71,
     "metadata": {},
     "output_type": "execute_result"
    },
    {
     "data": {
      "image/png": "[encoded data removed]",
      "text/plain": [
       "<Figure size 432x288 with 1 Axes>"
      ]
     },
     "metadata": {
      "needs_background": "light"
     },
     "output_type": "display_data"
    }
   ],
   "source": [
    "plot_roc_curve(model,Xtest,ytest)"
   ]
  },
  {
   "cell_type": "code",
   "execution_count": 72,
   "id": "12726534",
   "metadata": {},
   "outputs": [
    {
     "name": "stdout",
     "output_type": "stream",
     "text": [
      "              precision    recall  f1-score   support\n",
      "\n",
      "           0       1.00      1.00      1.00    302797\n",
      "           1       0.28      0.32      0.30       152\n",
      "\n",
      "    accuracy                           1.00    302949\n",
      "   macro avg       0.64      0.66      0.65    302949\n",
      "weighted avg       1.00      1.00      1.00    302949\n",
      "\n"
     ]
    }
   ],
   "source": [
    "print(classification_report( prediction, ytest))"
   ]
  },
  {
   "cell_type": "code",
   "execution_count": null,
   "id": "97a0da91",
   "metadata": {},
   "outputs": [],
   "source": []
  }
 ],
 "metadata": {
  "kernelspec": {
   "display_name": "Python 3 (ipykernel)",
   "language": "python",
   "name": "python3"
  },
  "language_info": {
   "codemirror_mode": {
    "name": "ipython",
    "version": 3
   },
   "file_extension": ".py",
   "mimetype": "text/x-python",
   "name": "python",
   "nbconvert_exporter": "python",
   "pygments_lexer": "ipython3",
   "version": "3.9.12"
  }
 },
 "nbformat": 4,
 "nbformat_minor": 5
}
